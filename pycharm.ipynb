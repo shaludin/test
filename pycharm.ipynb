{
 "cells": [
  {
   "cell_type": "code",
   "execution_count": null,
   "metadata": {
    "collapsed": true
   },
   "outputs": [],
   "source": [
    "import numpy as np\n",
    "import pandas as pd\n",
    "import statsmodels as st\n",
    "import matplotlib.pyplot as plt\n",
    "import scipy.stats as stats\n",
    "import datetime\n",
    "import matplotlib.gridspec as gridspec\n",
    "\n",
    "size_df = 31\n",
    "lower, upper = 5000, 100000\n",
    "mu, sigma = 4.6e4, 14e3\n",
    "\n",
    "df = pd.Series(stats.truncnorm.rvs((lower-mu)/sigma,(upper-mu)/sigma,loc=mu,scale=sigma,size=size_df))\n",
    "\n",
    "a = datetime.date(2018, 7, 1)\n",
    "numdays = 31\n",
    "dateList = []\n",
    "for x in range (0, numdays):\n",
    "    dateList.append(a + datetime.timedelta(days = x))\n",
    "\n",
    "x_pos = np.arange(len(dateList))\n",
    "\n",
    "plt.bar(x_pos, df, label = 'Новые')\n",
    "plt.xticks(x_pos, dateList, rotation='vertical')\n",
    "plt.axhline(y=df.mean(), color = 'r', linewidth = 1, label = 'Среднее')\n",
    "plt.legend()\n",
    "\n",
    "plt.title('Количество новых пользователей по дням')\n",
    "\n",
    "plt.show()"
   ]
  }
 ],
 "metadata": {
  "kernelspec": {
   "display_name": "Python 2",
   "language": "python",
   "name": "python2"
  },
  "language_info": {
   "codemirror_mode": {
    "name": "ipython",
    "version": 2
   },
   "file_extension": ".py",
   "mimetype": "text/x-python",
   "name": "python",
   "nbconvert_exporter": "python",
   "pygments_lexer": "ipython2",
   "version": "2.7.6"
  }
 },
 "nbformat": 4,
 "nbformat_minor": 0
}
